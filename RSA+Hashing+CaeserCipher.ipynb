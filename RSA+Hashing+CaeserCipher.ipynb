{
  "cells": [
    {
      "cell_type": "code",
      "execution_count": null,
      "metadata": {
        "colab": {
          "base_uri": "https://localhost:8080/"
        },
        "id": "FytdLlXn35Tc",
        "outputId": "2b09298e-5355-40e0-fdc5-cb5ec0716726"
      },
      "outputs": [
        {
          "output_type": "stream",
          "name": "stdout",
          "text": [
            "Looking in indexes: https://pypi.org/simple, https://us-python.pkg.dev/colab-wheels/public/simple/\n",
            "Requirement already satisfied: matplotlib-venn in /usr/local/lib/python3.8/dist-packages (0.11.7)\n",
            "Requirement already satisfied: matplotlib in /usr/local/lib/python3.8/dist-packages (from matplotlib-venn) (3.2.2)\n",
            "Requirement already satisfied: numpy in /usr/local/lib/python3.8/dist-packages (from matplotlib-venn) (1.21.6)\n",
            "Requirement already satisfied: scipy in /usr/local/lib/python3.8/dist-packages (from matplotlib-venn) (1.7.3)\n",
            "Requirement already satisfied: python-dateutil>=2.1 in /usr/local/lib/python3.8/dist-packages (from matplotlib->matplotlib-venn) (2.8.2)\n",
            "Requirement already satisfied: cycler>=0.10 in /usr/local/lib/python3.8/dist-packages (from matplotlib->matplotlib-venn) (0.11.0)\n",
            "Requirement already satisfied: kiwisolver>=1.0.1 in /usr/local/lib/python3.8/dist-packages (from matplotlib->matplotlib-venn) (1.4.4)\n",
            "Requirement already satisfied: pyparsing!=2.0.4,!=2.1.2,!=2.1.6,>=2.0.1 in /usr/local/lib/python3.8/dist-packages (from matplotlib->matplotlib-venn) (3.0.9)\n",
            "Requirement already satisfied: six>=1.5 in /usr/local/lib/python3.8/dist-packages (from python-dateutil>=2.1->matplotlib->matplotlib-venn) (1.15.0)\n"
          ]
        }
      ],
      "source": [
        "!pip install matplotlib-venn\n"
      ]
    },
    {
      "cell_type": "code",
      "execution_count": null,
      "metadata": {
        "colab": {
          "base_uri": "https://localhost:8080/"
        },
        "id": "tpxKS9GV4UAf",
        "outputId": "0081ea55-5a1a-446f-da91-9eaa4dd84a7d"
      },
      "outputs": [
        {
          "output_type": "stream",
          "name": "stdout",
          "text": [
            "E: Package 'libfluidsynth1' has no installation candidate\n"
          ]
        }
      ],
      "source": [
        "!apt-get -qq install -y libfluidsynth1\n"
      ]
    },
    {
      "cell_type": "code",
      "execution_count": null,
      "metadata": {
        "colab": {
          "base_uri": "https://localhost:8080/"
        },
        "id": "OdHDke044ZlM",
        "outputId": "c01b6ea2-ccd6-4294-d661-57fbbd4802c4"
      },
      "outputs": [
        {
          "output_type": "stream",
          "name": "stdout",
          "text": [
            "Selecting previously unselected package libarchive-dev:amd64.\n",
            "(Reading database ... 128126 files and directories currently installed.)\n",
            "Preparing to unpack .../libarchive-dev_3.4.0-2ubuntu1.2_amd64.deb ...\n",
            "Unpacking libarchive-dev:amd64 (3.4.0-2ubuntu1.2) ...\n",
            "Setting up libarchive-dev:amd64 (3.4.0-2ubuntu1.2) ...\n",
            "Processing triggers for man-db (2.9.1-1) ...\n",
            "Looking in indexes: https://pypi.org/simple, https://us-python.pkg.dev/colab-wheels/public/simple/\n",
            "Collecting libarchive\n",
            "  Downloading libarchive-0.4.7.tar.gz (23 kB)\n",
            "  Preparing metadata (setup.py) ... \u001b[?25l\u001b[?25hdone\n",
            "Collecting nose\n",
            "  Downloading nose-1.3.7-py3-none-any.whl (154 kB)\n",
            "\u001b[2K     \u001b[90m━━━━━━━━━━━━━━━━━━━━━━━━━━━━━━━━━━━━━━\u001b[0m \u001b[32m154.7/154.7 KB\u001b[0m \u001b[31m13.3 MB/s\u001b[0m eta \u001b[36m0:00:00\u001b[0m\n",
            "\u001b[?25hBuilding wheels for collected packages: libarchive\n",
            "  Building wheel for libarchive (setup.py) ... \u001b[?25l\u001b[?25hdone\n",
            "  Created wheel for libarchive: filename=libarchive-0.4.7-py3-none-any.whl size=31648 sha256=7ffb47f2ea07c1b40cb839f985d6057a27341573144c9003fffae92d9385d9f9\n",
            "  Stored in directory: /root/.cache/pip/wheels/e2/96/fb/b17d6b9adb7c223428b4c77d9e8bc29f40a51d625389b73461\n",
            "Successfully built libarchive\n",
            "Installing collected packages: nose, libarchive\n",
            "Successfully installed libarchive-0.4.7 nose-1.3.7\n"
          ]
        }
      ],
      "source": [
        "# https://pypi.python.org/pypi/libarchive\n",
        "!apt-get -qq install -y libarchive-dev && pip install -U libarchive\n",
        "import libarchive"
      ]
    },
    {
      "cell_type": "code",
      "execution_count": null,
      "metadata": {
        "colab": {
          "base_uri": "https://localhost:8080/"
        },
        "id": "4ygtpusO4jsC",
        "outputId": "3c08f5eb-d168-4ba9-bcfc-4c9277656d31"
      },
      "outputs": [
        {
          "output_type": "stream",
          "name": "stdout",
          "text": [
            "Looking in indexes: https://pypi.org/simple, https://us-python.pkg.dev/colab-wheels/public/simple/\n",
            "Requirement already satisfied: pydot in /usr/local/lib/python3.8/dist-packages (1.3.0)\n",
            "Requirement already satisfied: pyparsing>=2.1.4 in /usr/local/lib/python3.8/dist-packages (from pydot) (3.0.9)\n"
          ]
        }
      ],
      "source": [
        "# https://pypi.python.org/pypi/pydot\n",
        "!apt-get -qq install -y graphviz && pip install pydot\n",
        "import pydot"
      ]
    },
    {
      "cell_type": "code",
      "execution_count": null,
      "metadata": {
        "colab": {
          "base_uri": "https://localhost:8080/"
        },
        "id": "E0FmCCfL4lYB",
        "outputId": "d511604a-b3bb-437e-f7c2-de39732c134e"
      },
      "outputs": [
        {
          "output_type": "stream",
          "name": "stdout",
          "text": [
            "Looking in indexes: https://pypi.org/simple, https://us-python.pkg.dev/colab-wheels/public/simple/\n",
            "Collecting cartopy\n",
            "  Downloading Cartopy-0.21.1.tar.gz (10.9 MB)\n",
            "\u001b[2K     \u001b[90m━━━━━━━━━━━━━━━━━━━━━━━━━━━━━━━━━━━━━━━━\u001b[0m \u001b[32m10.9/10.9 MB\u001b[0m \u001b[31m38.7 MB/s\u001b[0m eta \u001b[36m0:00:00\u001b[0m\n",
            "\u001b[?25h  Installing build dependencies ... \u001b[?25l\u001b[?25hdone\n",
            "  Getting requirements to build wheel ... \u001b[?25l\u001b[?25hdone\n",
            "  Preparing metadata (pyproject.toml) ... \u001b[?25l\u001b[?25hdone\n",
            "Collecting pyproj>=3.0.0\n",
            "  Downloading pyproj-3.4.1-cp38-cp38-manylinux_2_17_x86_64.manylinux2014_x86_64.whl (7.8 MB)\n",
            "\u001b[2K     \u001b[90m━━━━━━━━━━━━━━━━━━━━━━━━━━━━━━━━━━━━━━━━\u001b[0m \u001b[32m7.8/7.8 MB\u001b[0m \u001b[31m95.0 MB/s\u001b[0m eta \u001b[36m0:00:00\u001b[0m\n",
            "\u001b[?25hCollecting pyshp>=2.1\n",
            "  Downloading pyshp-2.3.1-py2.py3-none-any.whl (46 kB)\n",
            "\u001b[2K     \u001b[90m━━━━━━━━━━━━━━━━━━━━━━━━━━━━━━━━━━━━━━━━\u001b[0m \u001b[32m46.5/46.5 KB\u001b[0m \u001b[31m5.3 MB/s\u001b[0m eta \u001b[36m0:00:00\u001b[0m\n",
            "\u001b[?25hRequirement already satisfied: matplotlib>=3.1 in /usr/local/lib/python3.8/dist-packages (from cartopy) (3.2.2)\n",
            "Requirement already satisfied: numpy>=1.18 in /usr/local/lib/python3.8/dist-packages (from cartopy) (1.21.6)\n",
            "Requirement already satisfied: shapely>=1.6.4 in /usr/local/lib/python3.8/dist-packages (from cartopy) (2.0.1)\n",
            "Requirement already satisfied: python-dateutil>=2.1 in /usr/local/lib/python3.8/dist-packages (from matplotlib>=3.1->cartopy) (2.8.2)\n",
            "Requirement already satisfied: pyparsing!=2.0.4,!=2.1.2,!=2.1.6,>=2.0.1 in /usr/local/lib/python3.8/dist-packages (from matplotlib>=3.1->cartopy) (3.0.9)\n",
            "Requirement already satisfied: cycler>=0.10 in /usr/local/lib/python3.8/dist-packages (from matplotlib>=3.1->cartopy) (0.11.0)\n",
            "Requirement already satisfied: kiwisolver>=1.0.1 in /usr/local/lib/python3.8/dist-packages (from matplotlib>=3.1->cartopy) (1.4.4)\n",
            "Requirement already satisfied: certifi in /usr/local/lib/python3.8/dist-packages (from pyproj>=3.0.0->cartopy) (2022.12.7)\n",
            "Requirement already satisfied: six>=1.5 in /usr/local/lib/python3.8/dist-packages (from python-dateutil>=2.1->matplotlib>=3.1->cartopy) (1.15.0)\n",
            "Building wheels for collected packages: cartopy\n",
            "  Building wheel for cartopy (pyproject.toml) ... \u001b[?25l\u001b[?25hdone\n",
            "  Created wheel for cartopy: filename=Cartopy-0.21.1-cp38-cp38-linux_x86_64.whl size=11127988 sha256=86f997754f671ee51ba65e942cf3c7444aa5597c6517cec72edd657d0a0dc809\n",
            "  Stored in directory: /root/.cache/pip/wheels/7c/ff/6f/09e4aa53f4e67d6498ef1d33dd4ea9c8c165817b9ddcc31d28\n",
            "Successfully built cartopy\n",
            "Installing collected packages: pyshp, pyproj, cartopy\n",
            "Successfully installed cartopy-0.21.1 pyproj-3.4.1 pyshp-2.3.1\n"
          ]
        }
      ],
      "source": [
        "!pip install cartopy\n",
        "import cartopy"
      ]
    },
    {
      "cell_type": "code",
      "execution_count": null,
      "metadata": {
        "colab": {
          "base_uri": "https://localhost:8080/"
        },
        "id": "1vufRk925gNa",
        "outputId": "3f0db3a3-3085-4e56-f6c5-9d7775cbbca2"
      },
      "outputs": [
        {
          "output_type": "stream",
          "name": "stdout",
          "text": [
            "Looking in indexes: https://pypi.org/simple, https://us-python.pkg.dev/colab-wheels/public/simple/\n",
            "Collecting caesarcipher\n",
            "  Downloading caesarcipher-1.0.tar.gz (10 kB)\n",
            "  Preparing metadata (setup.py) ... \u001b[?25l\u001b[?25hdone\n",
            "Building wheels for collected packages: caesarcipher\n",
            "  Building wheel for caesarcipher (setup.py) ... \u001b[?25l\u001b[?25hdone\n",
            "  Created wheel for caesarcipher: filename=caesarcipher-1.0-py3-none-any.whl size=10324 sha256=11db4b58740993c18cd4fcd0993a3d94dc1dfafc8d093840f3dbeb1ee19458e1\n",
            "  Stored in directory: /root/.cache/pip/wheels/97/a8/36/a1766d874568006bb1c046870e6f42571a72eae25115167baf\n",
            "Successfully built caesarcipher\n",
            "Installing collected packages: caesarcipher\n",
            "Successfully installed caesarcipher-1.0\n"
          ]
        }
      ],
      "source": [
        "!pip install caesarcipher"
      ]
    },
    {
      "cell_type": "code",
      "execution_count": null,
      "metadata": {
        "colab": {
          "base_uri": "https://localhost:8080/"
        },
        "id": "oz6owXaH5qd_",
        "outputId": "54a88a5f-c469-4170-c086-182d5c424cc9"
      },
      "outputs": [
        {
          "output_type": "stream",
          "name": "stdout",
          "text": [
            "Looking in indexes: https://pypi.org/simple, https://us-python.pkg.dev/colab-wheels/public/simple/\n",
            "Collecting pyfiglet\n",
            "  Downloading pyfiglet-0.8.post1-py2.py3-none-any.whl (865 kB)\n",
            "\u001b[2K     \u001b[90m━━━━━━━━━━━━━━━━━━━━━━━━━━━━━━━━━━━━━━\u001b[0m \u001b[32m865.8/865.8 KB\u001b[0m \u001b[31m35.7 MB/s\u001b[0m eta \u001b[36m0:00:00\u001b[0m\n",
            "\u001b[?25hInstalling collected packages: pyfiglet\n",
            "Successfully installed pyfiglet-0.8.post1\n"
          ]
        }
      ],
      "source": [
        "!pip install pyfiglet"
      ]
    },
    {
      "cell_type": "code",
      "execution_count": null,
      "metadata": {
        "colab": {
          "base_uri": "https://localhost:8080/"
        },
        "id": "8M_Bdhuy49AV",
        "outputId": "89cd111b-8efd-4503-c446-377f91580fff"
      },
      "outputs": [
        {
          "output_type": "stream",
          "name": "stdout",
          "text": [
            "Please Select the mode of operation:- \n",
            "\n",
            "1) Give Input.\n",
            "2) Initiate Key Generation Process.\n",
            "3) Initiate RSA Encryption For Assymetric Common Key sharing.\n",
            "4) Initiate Symmetric Encryption for conversation after ke sharing.\n",
            "5) Decrypt Asymmetricly shared common key.\n",
            "6) Decrypt message sent through Symmetric Conversation.\n",
            "7) Exit the program :[.\n",
            "\n",
            "Enter your choice: 1\n",
            "\n",
            "\n",
            "##### DATA INPUT #####\n",
            "Please Enter value of p [Prime number. eg. 7]: 7\n",
            "Please Enter value of q [Prime number. eg. 5]: 5\n",
            "Please enter the common key to be shared: 7\n",
            "\n",
            "Thanks!\n",
            "Please Select the mode of operation:- \n",
            "\n",
            "1) Give Input.\n",
            "2) Initiate Key Generation Process.\n",
            "3) Initiate RSA Encryption For Assymetric Common Key sharing.\n",
            "4) Initiate Symmetric Encryption for conversation after ke sharing.\n",
            "5) Decrypt Asymmetricly shared common key.\n",
            "6) Decrypt message sent through Symmetric Conversation.\n",
            "7) Exit the program :[.\n",
            "\n",
            "Enter your choice: 2\n",
            "\n",
            "\n",
            "##### KEY GENERATION PROCESS #####\n",
            "Please select value of e: 13\n",
            "\n",
            "Value of computed d is: 13\n",
            "\n",
            "Public Key here is - PU(13,35)\n",
            "Private Key here is - PR(13,35)\n",
            "Please Select the mode of operation:- \n",
            "\n",
            "1) Give Input.\n",
            "2) Initiate Key Generation Process.\n",
            "3) Initiate RSA Encryption For Assymetric Common Key sharing.\n",
            "4) Initiate Symmetric Encryption for conversation after ke sharing.\n",
            "5) Decrypt Asymmetricly shared common key.\n",
            "6) Decrypt message sent through Symmetric Conversation.\n",
            "7) Exit the program :[.\n",
            "\n",
            "Enter your choice: 3\n",
            "\n",
            "\n",
            "##### RSA ENCRYPTION PROCESS #####\n",
            "\n",
            "Cipher text generated is: 7\n",
            "Please Select the mode of operation:- \n",
            "\n",
            "1) Give Input.\n",
            "2) Initiate Key Generation Process.\n",
            "3) Initiate RSA Encryption For Assymetric Common Key sharing.\n",
            "4) Initiate Symmetric Encryption for conversation after ke sharing.\n",
            "5) Decrypt Asymmetricly shared common key.\n",
            "6) Decrypt message sent through Symmetric Conversation.\n",
            "7) Exit the program :[.\n",
            "\n",
            "Enter your choice: 4\n",
            "\n",
            "\n",
            "##### SYMMETRIC ENCRYPTION PROCESS #####\n",
            "\n",
            "Please enter the message to be shared: hello\n",
            "\n",
            "Hash for message given is: bdaea5138ab7de3cab4e60aec4956fb486c1affeddcce216d34248551652b8ce:eeef5a55ff564af7a7da0fd9dbe884a8\n",
            "Symmetrically encrypted data is: ikhlh5138hi7kl3jhi4l60hlj4956mi486j1hmmlkkjjl216k34248551652i8jl:lllm5h55mm564hm7h7kh0mk9kil884h8\n",
            "Please Select the mode of operation:- \n",
            "\n",
            "1) Give Input.\n",
            "2) Initiate Key Generation Process.\n",
            "3) Initiate RSA Encryption For Assymetric Common Key sharing.\n",
            "4) Initiate Symmetric Encryption for conversation after ke sharing.\n",
            "5) Decrypt Asymmetricly shared common key.\n",
            "6) Decrypt message sent through Symmetric Conversation.\n",
            "7) Exit the program :[.\n",
            "\n",
            "Enter your choice: 5\n",
            "\n",
            "\n",
            "##### RSA DECRYPTION PROCESS #####\n",
            "\n",
            "Deciphered Common key is 7\n",
            "\n",
            "Which match the sent key - 7\n",
            "Please Select the mode of operation:- \n",
            "\n",
            "1) Give Input.\n",
            "2) Initiate Key Generation Process.\n",
            "3) Initiate RSA Encryption For Assymetric Common Key sharing.\n",
            "4) Initiate Symmetric Encryption for conversation after ke sharing.\n",
            "5) Decrypt Asymmetricly shared common key.\n",
            "6) Decrypt message sent through Symmetric Conversation.\n",
            "7) Exit the program :[.\n",
            "\n",
            "Enter your choice: 6\n",
            "\n",
            "\n",
            "##### SYMMETRIC DECRYPTION PROCESS #####\n",
            "\n",
            "Decrypted hash message is: bdaea5138ab7de3cab4e60aec4956fb486c1affeddcce216d34248551652b8ce:eeef5a55ff564af7a7da0fd9dbe884a8\n",
            "\n",
            "##### RESULT #####\n",
            "\n",
            "--> The hash is same. The data is correct.\n",
            "Please Select the mode of operation:- \n",
            "\n",
            "1) Give Input.\n",
            "2) Initiate Key Generation Process.\n",
            "3) Initiate RSA Encryption For Assymetric Common Key sharing.\n",
            "4) Initiate Symmetric Encryption for conversation after ke sharing.\n",
            "5) Decrypt Asymmetricly shared common key.\n",
            "6) Decrypt message sent through Symmetric Conversation.\n",
            "7) Exit the program :[.\n",
            "\n",
            "Enter your choice: 7\n",
            "\n",
            "\n"
          ]
        }
      ],
      "source": [
        "import os, time\n",
        "import uuid\n",
        "import hashlib\n",
        "from pyfiglet import Figlet\n",
        "from caesarcipher import CaesarCipher\n",
        "\n",
        "# Function to compute gcd of 2 numbers\n",
        "def gcd(num1,num2):\n",
        "    while(num2):\n",
        "        num1, num2 = num2, (num1 % num2)\n",
        "    return num1\n",
        "# Function to compute modulo inverse\n",
        "def modInverse(num1,num2):\n",
        "    num1 = num1 % num2\n",
        "    for i in range(1,num2):\n",
        "        if ((num1*i) % num2) == 1:\n",
        "            return i\n",
        "# Function to perform hashing using hashlib and uuid\n",
        "def hashing(word):\n",
        " # uuid is used to generate a random number\n",
        "    salt = uuid.uuid4().hex\n",
        "    return hashlib.sha256(salt.encode() + word.encode()).hexdigest() + ':' + salt\n",
        "# Function to compare hash values\n",
        "def CompareHash(hashed_msz,decoded_msz):\n",
        "    return hashed_msz == decoded_msz\n",
        "# Function to input data\n",
        "def Input_data():\n",
        "    p = int(input(\"Please Enter value of p [Prime number. eg. 7]: \"))\n",
        "    q = int(input(\"Please Enter value of q [Prime number. eg. 5]: \"))\n",
        " # Race condition\n",
        "    if p == q:\n",
        "        print(\"Value of p and q can't be equal. Please use different prime numbers.\")\n",
        "        Input_data()\n",
        "        exit()\n",
        " # Common key to be shared between respondents for symmetric communication.\n",
        "    common_key = int(input(\"Please enter the common key to be shared: \"))\n",
        "    print(\"\\nThanks!\")\n",
        "    return p,q,common_key\n",
        "# RSA Key generation process\n",
        "def RSAKeyGeneration(p,q):\n",
        "    n = p * q\n",
        "    totient_func = (p-1)*(q-1)\n",
        "    flag = 1\n",
        "    while(flag):\n",
        "        e = int(input(\"Please select value of e: \"))\n",
        "        if gcd(totient_func,e) != 1:\n",
        "            print(\"\\nGCD of totient_func and e should be 1 (Relatively prime).\")\n",
        "            print(\"Please try again!\")\n",
        "            continue\n",
        "        flag = 0\n",
        "    if e>1 and e<totient_func:\n",
        "        d = modInverse(e,totient_func);\n",
        "        print(\"\\nValue of computed d is: %s\" %(d))\n",
        "\n",
        "    print(\"\\nPublic Key here is - PU(%s,%s)\" %(e,n))\n",
        "    print(\"Private Key here is - PR(%s,%s)\" %(d,n))\n",
        "    return n,e,d\n",
        "# RSA Encryption process\n",
        "def RSAEncryption(e,n,common_key):\n",
        "    Cipher = (common_key**e) % n\n",
        "    print(\"\\nCipher text generated is: %s\" %(Cipher))\n",
        "    return Cipher\n",
        "# Symmetric Encryption using shared common key\n",
        "def SymmetricEncryption(common_key):\n",
        "    msz = input(\"\\nPlease enter the message to be shared: \")\n",
        "    hashed_msz = hashing(msz)\n",
        "    print(\"\\nHash for message given is: %s\" %(hashed_msz))\n",
        "    cipher = CaesarCipher(hashed_msz, offset= common_key)\n",
        "    encoded_msz = cipher.encoded\n",
        "    print(\"Symmetrically encrypted data is: %s\" %(encoded_msz))\n",
        "    return hashed_msz, encoded_msz\n",
        "# RSA Decryption Process\n",
        "def RSADecryption(n,d,Cipher,common_key):\n",
        "    Decipher = (Cipher**d) % n\n",
        "    print(\"\\nDeciphered Common key is %s\" %(Decipher))\n",
        "    print(\"\\nWhich match the sent key - %s\" %(common_key))\n",
        "    return Decipher\n",
        "def Hashvalue(hashed_msz,msz):\n",
        "    password, salt = hashed_msz.split(':')\n",
        "    return hashlib.sha256(salt.encode() + msz.encode()).hexdigest()\n",
        "# Symmetric Decryption using shared common key\n",
        "def SymmetricDecryption(hashed_msz,encoded_msz,Decipher):\n",
        "    decipher = CaesarCipher(encoded_msz, offset= Decipher)\n",
        "    decoded_msz = decipher.decoded\n",
        "    print(\"\\nDecrypted hash message is: %s\" %(decoded_msz))\n",
        "    print(\"\\n##### RESULT #####\")\n",
        "    if CompareHash(hashed_msz,decoded_msz):\n",
        "        print(\"\\n--> The hash is same. The data is correct.\")\n",
        "    else:\n",
        "        print(\"\\n-->The hash is different. The data is incorrect\")\n",
        "# Input Menu\n",
        "def Menu():\n",
        "    print (\"Please Select the mode of operation:- \\n\")\n",
        "    print (\"1) Give Input.\")\n",
        "    print (\"2) Initiate Key Generation Process.\")\n",
        "    print (\"3) Initiate RSA Encryption For Assymetric Common Key sharing.\")\n",
        "    print (\"4) Initiate Symmetric Encryption for conversation after ke sharing.\")\n",
        "    print (\"5) Decrypt Asymmetricly shared common key.\")\n",
        "    print (\"6) Decrypt message sent through Symmetric Conversation.\")\n",
        "    print (\"7) Exit the program :[.\\n\")\n",
        "# Actual Program\n",
        "if __name__ == '__main__':\n",
        "    die =1\n",
        "    try:\n",
        "        while(die):\n",
        "            os.system(\"cls\")\n",
        "            Menu()\n",
        "            choice = int(input(\"Enter your choice: \"))\n",
        "            print(\"\\n\")\n",
        "            if choice == 1:\n",
        "                print(\"##### DATA INPUT #####\")\n",
        "                p,q,common_key = Input_data()\n",
        "                time.sleep(2)\n",
        "            elif choice == 2:\n",
        "                print(\"##### KEY GENERATION PROCESS #####\")\n",
        "                n,e,d = RSAKeyGeneration(p,q)\n",
        "                time.sleep(1)\n",
        "            elif choice == 3:\n",
        "                print(\"##### RSA ENCRYPTION PROCESS #####\")\n",
        "                Cipher = RSAEncryption(e,n,common_key)\n",
        "                time.sleep(1)\n",
        "            elif choice == 4:\n",
        "                print(\"##### SYMMETRIC ENCRYPTION PROCESS #####\")\n",
        "                hashed_msz,encoded_msz = SymmetricEncryption(common_key)\n",
        "                time.sleep(1)\n",
        "            elif choice == 5:\n",
        "                print(\"##### RSA DECRYPTION PROCESS #####\")\n",
        "                Decipher = RSADecryption(n,d,Cipher,common_key)\n",
        "                time.sleep(1)\n",
        "            elif choice == 6:\n",
        "                print(\"##### SYMMETRIC DECRYPTION PROCESS #####\")\n",
        "                SymmetricDecryption(hashed_msz,encoded_msz,Decipher)\n",
        "                time.sleep(1)\n",
        "            elif choice == 7:\n",
        "                die = 0\n",
        "                quit()\n",
        "            else:\n",
        "                print(\"This choice is not in the menu. Try Again!!!\")\n",
        "                die=1\n",
        "    except KeyboardInterrupt:\n",
        "        print(\"\\n\\nInterrupt received! Exiting cleanly...\\n\")"
      ]
    }
  ],
  "metadata": {
    "colab": {
      "provenance": []
    },
    "kernelspec": {
      "display_name": "Python 3",
      "name": "python3"
    },
    "language_info": {
      "name": "python"
    }
  },
  "nbformat": 4,
  "nbformat_minor": 0
}